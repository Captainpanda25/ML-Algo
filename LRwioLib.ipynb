{
 "cells": [
  {
   "cell_type": "code",
   "execution_count": 175,
   "metadata": {},
   "outputs": [],
   "source": [
    "import numpy as np\n",
    "import pandas as pd\n",
    "import matplotlib.pyplot as plt\n",
    "import seaborn as sns\n",
    "from sklearn import datasets\n",
    "import scipy.optimize as so"
   ]
  },
  {
   "cell_type": "code",
   "execution_count": 176,
   "metadata": {},
   "outputs": [],
   "source": [
    "f=pd.read_csv(r'ASDBinary.csv')\n",
    "f=f.values"
   ]
  },
  {
   "cell_type": "code",
   "execution_count": 177,
   "metadata": {},
   "outputs": [
    {
     "name": "stdout",
     "output_type": "stream",
     "text": [
      "[[22  1  0  0  1  0  5  0]\n",
      " [22  1  0  0  2  0  5  0]\n",
      " [22  1  0  0  2  0  5  0]\n",
      " [24  1  0  0  1  0  7  1]\n",
      " [27  1  0  0  0  0  5  0]\n",
      " [23  1  1  0  1  0  5  0]\n",
      " [22  1  0  0  2  0  4  0]\n",
      " [35  1  0  0  1  0  7  1]\n",
      " [69  0  0  0  2  0  0  0]\n",
      " [50  1  0  1  2  0  7  1]\n",
      " [21  0  0  0  0  0  6  1]\n",
      " [21  1  0  0  0  0  7  1]\n",
      " [22  1  0  0  0  0  5  0]\n",
      " [47  1  1  0  0  0  7  1]\n",
      " [30  1  0  0  0  0  6  1]\n",
      " [32  0  0  0  1  0  5  0]\n",
      " [52  1  0  0  1  0  8  1]\n",
      " [21  1  0  0  0  0  7  1]\n",
      " [35  1  0  0  0  0  7  1]\n",
      " [21  1  0  0  0  0  7  1]\n",
      " [21  1  0  0  0  0  8  1]\n",
      " [23  1  0  0  2  0  8  1]\n",
      " [22  1  0  0  0  0  5  0]\n",
      " [20  1  0  0  0  0  6  1]\n",
      " [21  1  0  0  0  0  8  1]\n",
      " [22  0  0  0  0  0  8  1]\n",
      " [21  1  0  0  0  0  8  1]\n",
      " [46  0  0  0  0  1  8  1]\n",
      " [18  1  0  0  1  0  6  1]\n",
      " [15  1  0  0  0  0  7  1]\n",
      " [48  1  1  0  1  0  5  0]\n",
      " [20  1  0  0  0  0  8  1]\n",
      " [20  1  0  0  0  0  7  1]\n",
      " [20  0  0  0  0  0  6  1]\n",
      " [22  0  0  0  0  0  6  1]\n",
      " [20  1  0  0  0  0  6  1]\n",
      " [21  0  0  0  0  0  8  1]\n",
      " [21  0  0  0  1  0  6  1]\n",
      " [23  1  0  0  0  0  6  1]\n",
      " [22  1  0  0  0  0  6  1]\n",
      " [18  0  0  0  0  0  7  1]\n",
      " [21  1  0  0  0  0  9  1]\n",
      " [20  1  0  0  0  0 10  1]\n",
      " [19  0  0  0  0  0  7  1]\n",
      " [21  1  0  0  0  0  6  1]\n",
      " [20  1  0  0  0  0  7  1]\n",
      " [25  0  0  0  0  0  7  1]\n",
      " [19  1  0  0  0  0  8  1]\n",
      " [23  1  0  0  1  0  6  1]\n",
      " [18  1  0  0  0  0  7  1]\n",
      " [22  1  0  0  1  0  5  0]\n",
      " [20  0  0  0  0  0  7  1]\n",
      " [54  0  0  0  0  0  6  1]\n",
      " [19  1  0  0  0  1  6  1]\n",
      " [38  0  0  0  1  1  7  1]\n",
      " [28  1  0  0  0  0  5  0]\n",
      " [40  1  0  0  1  1  6  1]\n",
      " [28  1  1  0  2  0  8  1]\n",
      " [33  1  0  0  0  1  6  1]\n",
      " [17  1  0  0  0  0  5  0]\n",
      " [46  1  0  0  0  0  6  1]\n",
      " [40  1  1  0  0  1  6  1]\n",
      " [35  1  1  1  2  1  7  1]\n",
      " [30  0  0  0  1  0  6  1]\n",
      " [29  0  1  0  2  1  4  0]\n",
      " [45  1  0  0  2  0  6  1]\n",
      " [33  0  0  0  1  1  5  0]\n",
      " [40  1  1  1  2  1  7  1]\n",
      " [54  1  1  0  0  0  4  0]\n",
      " [34  1  1  0  2  1  6  1]\n",
      " [40  1  0  0  1  0  4  0]\n",
      " [30  1  0  0  0  0  6  1]\n",
      " [56  1  0  0  2  1  8  1]\n",
      " [45  0  1  0  1  0  5  0]\n",
      " [40  0  1  0  2  1  6  1]\n",
      " [45  1  0  1  1  1  4  0]\n",
      " [33  0  0  0  2  1  5  0]\n",
      " [35  1  0  0  1  1  3  0]\n",
      " [50  1  1  0  2  0  6  1]\n",
      " [29  1  0  0  2  0  7  1]\n",
      " [32  1  1  1  2  1  4  0]\n",
      " [36  0  0  1  1  0  6  1]\n",
      " [33  1  0  0  1  1  2  0]\n",
      " [37  0  1  0  2  1  6  1]\n",
      " [30  0  1  0  2  1  5  0]\n",
      " [44  1  1  1  1  1  4  0]\n",
      " [43  1  0  0  1  1  5  0]\n",
      " [36  0  1  0  2  1  4  0]\n",
      " [30  0  1  0  2  1  6  1]\n",
      " [33  1  1  1  2  1  4  0]\n",
      " [37  0  0  0  1  1  6  1]\n",
      " [42  1  0  1  2  0  3  0]\n",
      " [28  0  1  0  2  0  3  0]\n",
      " [34  1  0  1  2  1  6  1]\n",
      " [34  0  1  0  2  1  5  0]\n",
      " [40  1  0  0  2  0  5  0]\n",
      " [33  1  1  0  1  1  6  1]]\n"
     ]
    }
   ],
   "source": [
    "print(f)"
   ]
  },
  {
   "cell_type": "code",
   "execution_count": 178,
   "metadata": {},
   "outputs": [],
   "source": [
    "X=f[:,6:7]\n",
    "y = (f[:,6:7] != 0) * 1"
   ]
  },
  {
   "cell_type": "code",
   "execution_count": 179,
   "metadata": {},
   "outputs": [],
   "source": [
    "class LogisticRegression:\n",
    "    def __init__(self,lr=0.01, num_iter=100000, fit_intercept=True, verbose=False):\n",
    "        self.lr = lr\n",
    "        self.num_iter = num_iter\n",
    "        self.fit_intercept = fit_intercept\n",
    "        self.verbose = verbose\n",
    "    \n",
    "    def __add_intercept(X):\n",
    "        intercept = np.ones((X.shape[0], 1))\n",
    "        return np.concatenate((intercept, X), axis=1)\n",
    "    \n",
    "    def __sigmoid( z):\n",
    "        return 1 / (1 + np.exp(-z))\n",
    "    def __loss(self, h, y):\n",
    "        return (-y * np.log(h) - (1 - y) * np.log(1 - h)).mean()\n",
    "    \n",
    "    def fit( X, y):\n",
    "        if self.fit_intercept:\n",
    "            X = self.__add_intercept(X)\n",
    "        \n",
    "        # weights initialization\n",
    "        self.theta = np.zeros(X.shape[1])\n",
    "        \n",
    "        for i in range(self.num_iter):\n",
    "            z = np.dot(X, self.theta)\n",
    "            h = self.__sigmoid(z)\n",
    "            gradient = np.dot(X.T, (h - y)) / y.size\n",
    "            self.theta -= self.lr * gradient\n",
    "            \n",
    "            z = np.dot(X, self.theta)\n",
    "            h = self.__sigmoid(z)\n",
    "            loss = self.__loss(h, y)\n",
    "                \n",
    "            if(self.verbose ==True and i % 10000 == 0):\n",
    "                print(f'loss: {loss} \\t')\n",
    "    \n",
    "    def predict_prob( X):\n",
    "        if self.fit_intercept:\n",
    "            X = self.__add_intercept(X)\n",
    "        return self.__sigmoid(np.dot(X, self.theta))\n",
    "    \n",
    "    def predict(X):\n",
    "        return self.predict_prob(X).round()"
   ]
  },
  {
   "cell_type": "code",
   "execution_count": 180,
   "metadata": {},
   "outputs": [
    {
     "ename": "TypeError",
     "evalue": "predict() takes 1 positional argument but 2 were given",
     "output_type": "error",
     "traceback": [
      "\u001b[0;31m---------------------------------------------------------------------------\u001b[0m",
      "\u001b[0;31mTypeError\u001b[0m                                 Traceback (most recent call last)",
      "\u001b[0;32m<ipython-input-180-95cbf158ff95>\u001b[0m in \u001b[0;36m<module>\u001b[0;34m\u001b[0m\n\u001b[1;32m      1\u001b[0m \u001b[0mmodel\u001b[0m \u001b[0;34m=\u001b[0m \u001b[0mLogisticRegression\u001b[0m\u001b[0;34m(\u001b[0m\u001b[0mlr\u001b[0m\u001b[0;34m=\u001b[0m\u001b[0;36m0.1\u001b[0m\u001b[0;34m,\u001b[0m \u001b[0mnum_iter\u001b[0m\u001b[0;34m=\u001b[0m\u001b[0;36m300000\u001b[0m\u001b[0;34m)\u001b[0m\u001b[0;34m\u001b[0m\u001b[0;34m\u001b[0m\u001b[0m\n\u001b[0;32m----> 2\u001b[0;31m \u001b[0mpreds\u001b[0m \u001b[0;34m=\u001b[0m \u001b[0mmodel\u001b[0m\u001b[0;34m.\u001b[0m\u001b[0mpredict\u001b[0m\u001b[0;34m(\u001b[0m\u001b[0mX\u001b[0m\u001b[0;34m)\u001b[0m\u001b[0;34m\u001b[0m\u001b[0;34m\u001b[0m\u001b[0m\n\u001b[0m\u001b[1;32m      3\u001b[0m \u001b[0;34m(\u001b[0m\u001b[0mpreds\u001b[0m \u001b[0;34m==\u001b[0m \u001b[0my\u001b[0m\u001b[0;34m)\u001b[0m\u001b[0;34m.\u001b[0m\u001b[0mmean\u001b[0m\u001b[0;34m(\u001b[0m\u001b[0;34m)\u001b[0m\u001b[0;34m\u001b[0m\u001b[0;34m\u001b[0m\u001b[0m\n",
      "\u001b[0;31mTypeError\u001b[0m: predict() takes 1 positional argument but 2 were given"
     ]
    }
   ],
   "source": [
    "model = LogisticRegression(lr=0.1, num_iter=300000)\n",
    "preds = model.predict(X)\n",
    "(preds == y).mean()"
   ]
  },
  {
   "cell_type": "code",
   "execution_count": null,
   "metadata": {},
   "outputs": [],
   "source": []
  }
 ],
 "metadata": {
  "kernelspec": {
   "display_name": "Python 3",
   "language": "python",
   "name": "python3"
  },
  "language_info": {
   "codemirror_mode": {
    "name": "ipython",
    "version": 3
   },
   "file_extension": ".py",
   "mimetype": "text/x-python",
   "name": "python",
   "nbconvert_exporter": "python",
   "pygments_lexer": "ipython3",
   "version": "3.7.1"
  }
 },
 "nbformat": 4,
 "nbformat_minor": 2
}
